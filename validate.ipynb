{
 "cells": [
  {
   "cell_type": "markdown",
   "metadata": {},
   "source": [
    "使用训练好的模型评估在数据集上的效果"
   ]
  },
  {
   "cell_type": "code",
   "execution_count": 1,
   "metadata": {},
   "outputs": [],
   "source": [
    "import torch\n",
    "import os\n",
    "from DataSet import BrainDataSet\n",
    "from DataSet import get_data\n",
    "from torchvision import transforms\n",
    "from torch.utils.data import DataLoader\n",
    "import pandas as pd\n",
    "from sklearn.model_selection import GroupKFold\n",
    "from OurModel import OurModel\n",
    "import torch.nn.functional as F\n",
    "from tqdm import tqdm"
   ]
  },
  {
   "cell_type": "code",
   "execution_count": 2,
   "metadata": {},
   "outputs": [
    {
     "name": "stdout",
     "output_type": "stream",
     "text": [
      "     Subj_t1  Group  center\n",
      "0     1_S021      1       3\n",
      "1     1_S030      1       3\n",
      "2     1_S035      1       3\n",
      "3     1_S052      1       3\n",
      "4     1_S053      1       3\n",
      "..       ...    ...     ...\n",
      "804  3_AD039      3       7\n",
      "805  3_AD040      3       7\n",
      "806  3_AD041      3       7\n",
      "807  3_AD042      3       7\n",
      "808  3_AD043      3       7\n",
      "\n",
      "[809 rows x 3 columns]\n"
     ]
    }
   ],
   "source": [
    "path = \"E:/DataSet/Alzheimer/mcad_crop/\"\n",
    "# get data information(image name, image label and image center)\n",
    "mcad_info = pd.read_excel(\"E:/DataSet/Alzheimer/mcad_info_809.xlsx\")\n",
    "mcad_info = mcad_info[['Subj_t1', 'Group', 'center']]\n",
    "print(mcad_info)"
   ]
  },
  {
   "cell_type": "code",
   "execution_count": 3,
   "metadata": {},
   "outputs": [],
   "source": [
    "pathes, labels, sites = get_data(path=path, mcad_info=mcad_info)\n",
    "# print(sites)"
   ]
  },
  {
   "cell_type": "code",
   "execution_count": 4,
   "metadata": {},
   "outputs": [
    {
     "name": "stdout",
     "output_type": "stream",
     "text": [
      "model trained without site0\n"
     ]
    },
    {
     "name": "stderr",
     "output_type": "stream",
     "text": [
      "C:\\Users\\Administrator\\AppData\\Local\\Temp\\ipykernel_20876\\3676747817.py:50: UserWarning: Implicit dimension choice for softmax has been deprecated. Change the call to include dim=X as an argument.\n",
      "  pre_label = torch.argmax(F.softmax(pre_label), dim = 1)\n"
     ]
    },
    {
     "name": "stdout",
     "output_type": "stream",
     "text": [
      "site4 acc:1.0\n",
      "site3 acc:0.8545454144477844\n",
      "site0 acc:0.8705882430076599\n",
      "site6 acc:0.9638553857803345\n",
      "site2 acc:0.9672130346298218\n",
      "site5 acc:0.9818181395530701\n",
      "site1 acc:1.0\n",
      "---------------------------------------------------------------------------------\n",
      "\n",
      "model trained without site1\n"
     ]
    },
    {
     "name": "stderr",
     "output_type": "stream",
     "text": [
      "C:\\Users\\Administrator\\AppData\\Local\\Temp\\ipykernel_20876\\3676747817.py:50: UserWarning: Implicit dimension choice for softmax has been deprecated. Change the call to include dim=X as an argument.\n",
      "  pre_label = torch.argmax(F.softmax(pre_label), dim = 1)\n"
     ]
    },
    {
     "name": "stdout",
     "output_type": "stream",
     "text": [
      "site4 acc:1.0\n",
      "site3 acc:0.9545454382896423\n",
      "site0 acc:1.0\n",
      "site6 acc:0.9999999403953552\n",
      "site2 acc:0.9999999403953552\n",
      "site5 acc:0.9999999403953552\n",
      "site1 acc:0.9111111164093018\n",
      "---------------------------------------------------------------------------------\n",
      "\n",
      "model trained without site2\n"
     ]
    },
    {
     "name": "stderr",
     "output_type": "stream",
     "text": [
      "C:\\Users\\Administrator\\AppData\\Local\\Temp\\ipykernel_20876\\3676747817.py:50: UserWarning: Implicit dimension choice for softmax has been deprecated. Change the call to include dim=X as an argument.\n",
      "  pre_label = torch.argmax(F.softmax(pre_label), dim = 1)\n"
     ]
    },
    {
     "name": "stdout",
     "output_type": "stream",
     "text": [
      "site4 acc:0.991150438785553\n",
      "site3 acc:0.7999999523162842\n",
      "site0 acc:1.0\n",
      "site6 acc:0.9879517555236816\n",
      "site2 acc:0.7704917788505554\n",
      "site5 acc:0.9818181395530701\n",
      "site1 acc:1.0\n",
      "---------------------------------------------------------------------------------\n",
      "\n",
      "model trained without site3\n"
     ]
    },
    {
     "name": "stderr",
     "output_type": "stream",
     "text": [
      "C:\\Users\\Administrator\\AppData\\Local\\Temp\\ipykernel_20876\\3676747817.py:50: UserWarning: Implicit dimension choice for softmax has been deprecated. Change the call to include dim=X as an argument.\n",
      "  pre_label = torch.argmax(F.softmax(pre_label), dim = 1)\n"
     ]
    },
    {
     "name": "stdout",
     "output_type": "stream",
     "text": [
      "site4 acc:1.0\n",
      "site3 acc:0.7454545497894287\n",
      "site0 acc:1.0\n",
      "site6 acc:0.9759035706520081\n",
      "site2 acc:0.9999999403953552\n",
      "site5 acc:0.9999999403953552\n",
      "site1 acc:1.0\n",
      "---------------------------------------------------------------------------------\n",
      "\n",
      "model trained without site4\n"
     ]
    },
    {
     "name": "stderr",
     "output_type": "stream",
     "text": [
      "C:\\Users\\Administrator\\AppData\\Local\\Temp\\ipykernel_20876\\3676747817.py:50: UserWarning: Implicit dimension choice for softmax has been deprecated. Change the call to include dim=X as an argument.\n",
      "  pre_label = torch.argmax(F.softmax(pre_label), dim = 1)\n"
     ]
    },
    {
     "name": "stdout",
     "output_type": "stream",
     "text": [
      "site4 acc:0.9115044474601746\n",
      "site3 acc:0.8363636136054993\n",
      "site0 acc:1.0\n",
      "site6 acc:0.9879517555236816\n",
      "site2 acc:0.9180327653884888\n",
      "site5 acc:0.9454545378684998\n",
      "site1 acc:1.0\n",
      "---------------------------------------------------------------------------------\n",
      "\n",
      "model trained without site5\n"
     ]
    },
    {
     "name": "stderr",
     "output_type": "stream",
     "text": [
      "C:\\Users\\Administrator\\AppData\\Local\\Temp\\ipykernel_20876\\3676747817.py:50: UserWarning: Implicit dimension choice for softmax has been deprecated. Change the call to include dim=X as an argument.\n",
      "  pre_label = torch.argmax(F.softmax(pre_label), dim = 1)\n"
     ]
    },
    {
     "name": "stdout",
     "output_type": "stream",
     "text": [
      "site4 acc:0.991150438785553\n",
      "site3 acc:0.7363635897636414\n",
      "site0 acc:0.9529411792755127\n",
      "site6 acc:0.9638553857803345\n",
      "site2 acc:0.9180327653884888\n",
      "site5 acc:0.9090908765792847\n",
      "site1 acc:1.0\n",
      "---------------------------------------------------------------------------------\n",
      "\n",
      "model trained without site6\n"
     ]
    },
    {
     "name": "stderr",
     "output_type": "stream",
     "text": [
      "C:\\Users\\Administrator\\AppData\\Local\\Temp\\ipykernel_20876\\3676747817.py:50: UserWarning: Implicit dimension choice for softmax has been deprecated. Change the call to include dim=X as an argument.\n",
      "  pre_label = torch.argmax(F.softmax(pre_label), dim = 1)\n"
     ]
    },
    {
     "name": "stdout",
     "output_type": "stream",
     "text": [
      "site4 acc:0.991150438785553\n",
      "site3 acc:0.7545454502105713\n",
      "site0 acc:1.0\n",
      "site6 acc:0.8915662169456482\n",
      "site2 acc:0.9180327653884888\n",
      "site5 acc:0.9636363387107849\n",
      "site1 acc:1.0\n",
      "---------------------------------------------------------------------------------\n",
      "\n"
     ]
    }
   ],
   "source": [
    "transform = transforms.Compose([\n",
    "    transforms.ToTensor(),\n",
    "     transforms.Normalize([0.5], [0.5])\n",
    "])\n",
    "\n",
    "for site in range(7):\n",
    "    # for each trained model, evaluate its performence on all sites\n",
    "    group_kf = GroupKFold(n_splits=7)\n",
    "\n",
    "    net = OurModel(\n",
    "            block_num_list = [2,2,2,2],\n",
    "            channel_list=[1,64,128,256,512],\n",
    "            num_class=2,\n",
    "            conv_pooling=True,\n",
    "            domain_knowledge=False,\n",
    "            domain_knowledge_len=11,\n",
    "            train_sites_num=[0 for i in range(6)],\n",
    "            mlp_ratio=1\n",
    "        )\n",
    "\n",
    "    net = torch.load('model/chan=1-512 domain=F testsite={} best_network.pth'.format(site))\n",
    "    net = net.cuda()\n",
    "    print(\"model trained without site{0}\".format(site))\n",
    "\n",
    "    for train_index, test_index in group_kf.split(pathes, labels, sites):\n",
    "        # use test_site to evaluate the model's performence\n",
    "        \n",
    "        # print(test_site)\n",
    "\n",
    "        test_pathes = pathes[test_index]\n",
    "        test_labels = labels[test_index]\n",
    "        test_sites = sites[test_index]\n",
    "\n",
    "        dataset = BrainDataSet(img_pathes=test_pathes, \n",
    "                               labels=test_labels, \n",
    "                               sites = test_sites)\n",
    "        \n",
    "        dataloader = DataLoader(dataset=dataset,\n",
    "                                batch_size=1,\n",
    "                                shuffle=False,\n",
    "                                drop_last=False)\n",
    "        acc = 0.\n",
    "        for img, label, site in dataloader:\n",
    "            img = img.unsqueeze(dim = 1).cuda()\n",
    "            img = (img - torch.min(img)) / (torch.max(img) - torch.min(img))\n",
    "            # print(img.shape)\n",
    "            label = label.cuda()\n",
    "            site = site.cuda()\n",
    "            pre_label = net(img, train = False, site = site, gender = None, age = None, MMSE = None)\n",
    "            pre_label = torch.argmax(F.softmax(pre_label), dim = 1)\n",
    "            acc += (pre_label == label).sum()\n",
    "\n",
    "        print(\"site{0} acc:{1}\".format(test_sites[0], acc / len(dataloader)))\n",
    "   \n",
    "    print(\"---------------------------------------------------------------------------------\\n\")"
   ]
  },
  {
   "cell_type": "code",
   "execution_count": null,
   "metadata": {},
   "outputs": [],
   "source": []
  }
 ],
 "metadata": {
  "kernelspec": {
   "display_name": "Python 3 (ipykernel)",
   "language": "python",
   "name": "python3"
  },
  "language_info": {
   "codemirror_mode": {
    "name": "ipython",
    "version": 3
   },
   "file_extension": ".py",
   "mimetype": "text/x-python",
   "name": "python",
   "nbconvert_exporter": "python",
   "pygments_lexer": "ipython3",
   "version": "3.9.13"
  }
 },
 "nbformat": 4,
 "nbformat_minor": 4
}
